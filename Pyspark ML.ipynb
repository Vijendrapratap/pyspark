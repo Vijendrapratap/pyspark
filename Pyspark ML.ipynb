{
 "cells": [
  {
   "cell_type": "code",
   "execution_count": 18,
   "id": "14424e91",
   "metadata": {},
   "outputs": [],
   "source": [
    "from pyspark.sql import SparkSession\n",
    "\n",
    "spark = SparkSession.builder.master(\"local[3]\").appName('ML').getOrCreate()"
   ]
  },
  {
   "cell_type": "code",
   "execution_count": 19,
   "id": "a37a3dbd",
   "metadata": {},
   "outputs": [
    {
     "name": "stdout",
     "output_type": "stream",
     "text": [
      "+----------+----+------+------+---+------+----+\n",
      "|total_bill| tip|   sex|smoker|day|  time|size|\n",
      "+----------+----+------+------+---+------+----+\n",
      "|     16.99|1.01|Female|    No|Sun|Dinner|   2|\n",
      "|     10.34|1.66|  Male|    No|Sun|Dinner|   3|\n",
      "|     21.01| 3.5|  Male|    No|Sun|Dinner|   3|\n",
      "|     23.68|3.31|  Male|    No|Sun|Dinner|   2|\n",
      "|     24.59|3.61|Female|    No|Sun|Dinner|   4|\n",
      "+----------+----+------+------+---+------+----+\n",
      "only showing top 5 rows\n",
      "\n"
     ]
    }
   ],
   "source": [
    "pyspark_data = spark.read.csv(\"/home/vijendra/Work/Datasets/tips.csv\",header=True,inferSchema=True)\n",
    "pyspark_data.show(5)"
   ]
  },
  {
   "cell_type": "code",
   "execution_count": 20,
   "id": "d9b1a747",
   "metadata": {},
   "outputs": [
    {
     "name": "stdout",
     "output_type": "stream",
     "text": [
      "root\n",
      " |-- total_bill: double (nullable = true)\n",
      " |-- tip: double (nullable = true)\n",
      " |-- sex: string (nullable = true)\n",
      " |-- smoker: string (nullable = true)\n",
      " |-- day: string (nullable = true)\n",
      " |-- time: string (nullable = true)\n",
      " |-- size: integer (nullable = true)\n",
      "\n"
     ]
    }
   ],
   "source": [
    "pyspark_data.printSchema()"
   ]
  },
  {
   "cell_type": "code",
   "execution_count": 21,
   "id": "ac947de6",
   "metadata": {},
   "outputs": [
    {
     "data": {
      "text/plain": [
       "['total_bill', 'tip', 'sex', 'smoker', 'day', 'time', 'size']"
      ]
     },
     "execution_count": 21,
     "metadata": {},
     "output_type": "execute_result"
    }
   ],
   "source": [
    "pyspark_data.columns"
   ]
  },
  {
   "cell_type": "code",
   "execution_count": 22,
   "id": "a4e07581",
   "metadata": {},
   "outputs": [],
   "source": [
    "#Handling categorical features\n",
    "\n",
    "from pyspark.ml.feature import StringIndexer\n",
    "#StringIndexer will help to convert categorical features to numerical features\n",
    "\n",
    "indexer = StringIndexer(inputCols=['sex','smoker','day','time'],outputCols=[\"Mod_{}\".format(i) for i in ['sex','smoker','day','time']])"
   ]
  },
  {
   "cell_type": "code",
   "execution_count": 23,
   "id": "efe1666a",
   "metadata": {},
   "outputs": [
    {
     "name": "stdout",
     "output_type": "stream",
     "text": [
      "+----------+----+------+------+---+------+----+-------+----------+-------+--------+\n",
      "|total_bill| tip|   sex|smoker|day|  time|size|Mod_sex|Mod_smoker|Mod_day|Mod_time|\n",
      "+----------+----+------+------+---+------+----+-------+----------+-------+--------+\n",
      "|     16.99|1.01|Female|    No|Sun|Dinner|   2|    1.0|       0.0|    1.0|     0.0|\n",
      "|     10.34|1.66|  Male|    No|Sun|Dinner|   3|    0.0|       0.0|    1.0|     0.0|\n",
      "|     21.01| 3.5|  Male|    No|Sun|Dinner|   3|    0.0|       0.0|    1.0|     0.0|\n",
      "+----------+----+------+------+---+------+----+-------+----------+-------+--------+\n",
      "only showing top 3 rows\n",
      "\n"
     ]
    }
   ],
   "source": [
    "pyspark_data = indexer.fit(pyspark_data).transform(pyspark_data)\n",
    "pyspark_data.show(3)"
   ]
  },
  {
   "cell_type": "markdown",
   "id": "5e1c6a8f",
   "metadata": {},
   "source": [
    "VectorAssembler is used to combine all dependent variable together which is used to train models in Spark"
   ]
  },
  {
   "cell_type": "code",
   "execution_count": 27,
   "id": "f0e4e299",
   "metadata": {},
   "outputs": [],
   "source": [
    "from pyspark.ml.feature import VectorAssembler\n",
    "\n",
    "feature_assembler = VectorAssembler(inputCols=['total_bill','Mod_sex','Mod_smoker','Mod_day','Mod_time','size'],\n",
    "               outputCol='independent features')\n",
    "\n",
    "output = feature_assembler.transform(pyspark_data)"
   ]
  },
  {
   "cell_type": "code",
   "execution_count": 28,
   "id": "6269cf87",
   "metadata": {},
   "outputs": [
    {
     "name": "stdout",
     "output_type": "stream",
     "text": [
      "+----------+----+------+------+---+------+----+-------+----------+-------+--------+--------------------+\n",
      "|total_bill| tip|   sex|smoker|day|  time|size|Mod_sex|Mod_smoker|Mod_day|Mod_time|independent features|\n",
      "+----------+----+------+------+---+------+----+-------+----------+-------+--------+--------------------+\n",
      "|     16.99|1.01|Female|    No|Sun|Dinner|   2|    1.0|       0.0|    1.0|     0.0|[16.99,1.0,0.0,1....|\n",
      "|     10.34|1.66|  Male|    No|Sun|Dinner|   3|    0.0|       0.0|    1.0|     0.0|[10.34,0.0,0.0,1....|\n",
      "|     21.01| 3.5|  Male|    No|Sun|Dinner|   3|    0.0|       0.0|    1.0|     0.0|[21.01,0.0,0.0,1....|\n",
      "|     23.68|3.31|  Male|    No|Sun|Dinner|   2|    0.0|       0.0|    1.0|     0.0|[23.68,0.0,0.0,1....|\n",
      "|     24.59|3.61|Female|    No|Sun|Dinner|   4|    1.0|       0.0|    1.0|     0.0|[24.59,1.0,0.0,1....|\n",
      "|     25.29|4.71|  Male|    No|Sun|Dinner|   4|    0.0|       0.0|    1.0|     0.0|[25.29,0.0,0.0,1....|\n",
      "|      8.77| 2.0|  Male|    No|Sun|Dinner|   2|    0.0|       0.0|    1.0|     0.0|[8.77,0.0,0.0,1.0...|\n",
      "|     26.88|3.12|  Male|    No|Sun|Dinner|   4|    0.0|       0.0|    1.0|     0.0|[26.88,0.0,0.0,1....|\n",
      "|     15.04|1.96|  Male|    No|Sun|Dinner|   2|    0.0|       0.0|    1.0|     0.0|[15.04,0.0,0.0,1....|\n",
      "|     14.78|3.23|  Male|    No|Sun|Dinner|   2|    0.0|       0.0|    1.0|     0.0|[14.78,0.0,0.0,1....|\n",
      "|     10.27|1.71|  Male|    No|Sun|Dinner|   2|    0.0|       0.0|    1.0|     0.0|[10.27,0.0,0.0,1....|\n",
      "|     35.26| 5.0|Female|    No|Sun|Dinner|   4|    1.0|       0.0|    1.0|     0.0|[35.26,1.0,0.0,1....|\n",
      "|     15.42|1.57|  Male|    No|Sun|Dinner|   2|    0.0|       0.0|    1.0|     0.0|[15.42,0.0,0.0,1....|\n",
      "|     18.43| 3.0|  Male|    No|Sun|Dinner|   4|    0.0|       0.0|    1.0|     0.0|[18.43,0.0,0.0,1....|\n",
      "|     14.83|3.02|Female|    No|Sun|Dinner|   2|    1.0|       0.0|    1.0|     0.0|[14.83,1.0,0.0,1....|\n",
      "|     21.58|3.92|  Male|    No|Sun|Dinner|   2|    0.0|       0.0|    1.0|     0.0|[21.58,0.0,0.0,1....|\n",
      "|     10.33|1.67|Female|    No|Sun|Dinner|   3|    1.0|       0.0|    1.0|     0.0|[10.33,1.0,0.0,1....|\n",
      "|     16.29|3.71|  Male|    No|Sun|Dinner|   3|    0.0|       0.0|    1.0|     0.0|[16.29,0.0,0.0,1....|\n",
      "|     16.97| 3.5|Female|    No|Sun|Dinner|   3|    1.0|       0.0|    1.0|     0.0|[16.97,1.0,0.0,1....|\n",
      "|     20.65|3.35|  Male|    No|Sat|Dinner|   3|    0.0|       0.0|    0.0|     0.0|(6,[0,5],[20.65,3...|\n",
      "+----------+----+------+------+---+------+----+-------+----------+-------+--------+--------------------+\n",
      "only showing top 20 rows\n",
      "\n"
     ]
    }
   ],
   "source": [
    "output.show()"
   ]
  },
  {
   "cell_type": "code",
   "execution_count": 29,
   "id": "30562f0f",
   "metadata": {},
   "outputs": [
    {
     "name": "stdout",
     "output_type": "stream",
     "text": [
      "+--------------------+\n",
      "|independent features|\n",
      "+--------------------+\n",
      "|[16.99,1.0,0.0,1....|\n",
      "|[10.34,0.0,0.0,1....|\n",
      "|[21.01,0.0,0.0,1....|\n",
      "+--------------------+\n",
      "only showing top 3 rows\n",
      "\n"
     ]
    }
   ],
   "source": [
    "output.select('independent features').show(3)"
   ]
  },
  {
   "cell_type": "code",
   "execution_count": 30,
   "id": "8f539cc4",
   "metadata": {},
   "outputs": [
    {
     "name": "stdout",
     "output_type": "stream",
     "text": [
      "+--------------------+----+\n",
      "|independent features| tip|\n",
      "+--------------------+----+\n",
      "|[16.99,1.0,0.0,1....|1.01|\n",
      "|[10.34,0.0,0.0,1....|1.66|\n",
      "|[21.01,0.0,0.0,1....| 3.5|\n",
      "+--------------------+----+\n",
      "only showing top 3 rows\n",
      "\n"
     ]
    }
   ],
   "source": [
    "final_df = output.select(\"independent features\",\"tip\")\n",
    "final_df.show(3)"
   ]
  },
  {
   "cell_type": "code",
   "execution_count": 31,
   "id": "cb7f00c9",
   "metadata": {},
   "outputs": [],
   "source": [
    "from pyspark.ml.regression import LinearRegression\n",
    "\n",
    "train_data,test_data = final_df.randomSplit([0.75,0.25])\n",
    "\n",
    "regressor = LinearRegression(featuresCol=\"independent features\",labelCol=\"tip\")\n",
    "\n",
    "regressor = regressor.fit(train_data)"
   ]
  },
  {
   "cell_type": "code",
   "execution_count": 34,
   "id": "946202f5",
   "metadata": {},
   "outputs": [
    {
     "data": {
      "text/plain": [
       "DenseVector([0.0935, -0.0147, -0.2373, 0.0948, -0.0793, 0.1397])"
      ]
     },
     "execution_count": 34,
     "metadata": {},
     "output_type": "execute_result"
    }
   ],
   "source": [
    "regressor.coefficients"
   ]
  },
  {
   "cell_type": "code",
   "execution_count": 35,
   "id": "102d94ea",
   "metadata": {},
   "outputs": [
    {
     "data": {
      "text/plain": [
       "0.7793772662187829"
      ]
     },
     "execution_count": 35,
     "metadata": {},
     "output_type": "execute_result"
    }
   ],
   "source": [
    "regressor.intercept"
   ]
  },
  {
   "cell_type": "code",
   "execution_count": 38,
   "id": "41d10b36",
   "metadata": {},
   "outputs": [
    {
     "name": "stdout",
     "output_type": "stream",
     "text": [
      "+--------------------+----+------------------+\n",
      "|independent features| tip|        prediction|\n",
      "+--------------------+----+------------------+\n",
      "|(6,[0,5],[10.07,2...|1.25|2.0007517607046603|\n",
      "|(6,[0,5],[12.02,2...|1.97| 2.183153239511322|\n",
      "|(6,[0,5],[13.28,2...|2.72|2.3010126565863955|\n",
      "|(6,[0,5],[17.59,3...|2.64|2.8438839694012166|\n",
      "|(6,[0,5],[17.81,4...|2.34|3.0041798728215516|\n",
      "|(6,[0,5],[18.35,4...| 2.5|3.0546910515680117|\n",
      "|(6,[0,5],[21.7,2.0])| 4.3|3.0886128881515713|\n",
      "|[3.07,1.0,1.0,0.0...| 1.0|0.9542676328837931|\n",
      "|[10.09,1.0,1.0,3....| 2.0|1.9555502355762657|\n",
      "|[10.27,0.0,0.0,1....|1.71|2.1142159166253425|\n",
      "|[13.27,1.0,1.0,0....| 2.5|2.0480849509146335|\n",
      "|[13.39,1.0,0.0,1....|2.61|2.3913198613764326|\n",
      "|[13.42,1.0,1.0,3....|3.48|2.2670358378461035|\n",
      "|[13.81,0.0,1.0,0....| 2.0|2.1133345510006625|\n",
      "|[14.15,1.0,0.0,2....| 2.0|2.4778170485663984|\n",
      "|[14.31,1.0,1.0,0....| 4.0|  2.14536573961152|\n",
      "|[14.83,1.0,0.0,1....|3.02|  2.52601633803366|\n",
      "|[15.01,0.0,1.0,0....|2.09| 2.225581614881685|\n",
      "|[15.77,1.0,0.0,0....|2.23| 2.519186892799949|\n",
      "|[15.95,0.0,0.0,2....| 2.0| 2.660926065727501|\n",
      "+--------------------+----+------------------+\n",
      "only showing top 20 rows\n",
      "\n"
     ]
    }
   ],
   "source": [
    "#prediction\n",
    "\n",
    "pred_data = regressor.evaluate(test_data)\n",
    "pred_data.predictions.show()"
   ]
  },
  {
   "cell_type": "code",
   "execution_count": 42,
   "id": "fd46128f",
   "metadata": {},
   "outputs": [
    {
     "data": {
      "text/plain": [
       "(0.4905604286608517, 0.6867322889679136, 1.0053583344217607)"
      ]
     },
     "execution_count": 42,
     "metadata": {},
     "output_type": "execute_result"
    }
   ],
   "source": [
    "pred_data.r2,pred_data.meanAbsoluteError,pred_data.meanSquaredError"
   ]
  },
  {
   "cell_type": "code",
   "execution_count": null,
   "id": "990f555e",
   "metadata": {},
   "outputs": [],
   "source": []
  }
 ],
 "metadata": {
  "kernelspec": {
   "display_name": "Python 3",
   "language": "python",
   "name": "python3"
  },
  "language_info": {
   "codemirror_mode": {
    "name": "ipython",
    "version": 3
   },
   "file_extension": ".py",
   "mimetype": "text/x-python",
   "name": "python",
   "nbconvert_exporter": "python",
   "pygments_lexer": "ipython3",
   "version": "3.8.10"
  }
 },
 "nbformat": 4,
 "nbformat_minor": 5
}
